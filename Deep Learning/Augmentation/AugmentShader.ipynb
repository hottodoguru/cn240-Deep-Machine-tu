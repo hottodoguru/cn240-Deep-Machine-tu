{
 "cells": [
  {
   "cell_type": "code",
   "execution_count": 2,
   "id": "corresponding-personality",
   "metadata": {},
   "outputs": [],
   "source": [
    "#4color space Transformations shader\n",
    "from threading import Thread\n",
    "import glob\n",
    "import os\n",
    "import cv2\n",
    "import numpy as np\n",
    "import math\n",
    "\n",
    "class MyThread(Thread):\n",
    "    def __init__(self,base,limit,path):\n",
    "        Thread.__init__(self)\n",
    "        self.base = base\n",
    "        self.limit = limit\n",
    "        self.path = path\n",
    "    def run(self):\n",
    "        for i in range(self.base,self.limit):\n",
    "            image = cv2.imread(path[i])\n",
    "            matrix = np.ones(image.shape,dtype = \"uint8\") * 35\n",
    "            subtracted = cv2.subtract(image,matrix)\n",
    "            cv2.imwrite('G://Deep_Learning_Dataset//024//Normal//' + \"shader\" + os.path.basename(path[i]),subtracted)\n",
    "\n",
    "\n",
    "path = glob.glob(\"G://Deep_Learning_Dataset//02//Normal//*\")\n",
    "start = 0 \n",
    "perround = math.floor(len(path)/8)\n",
    "thr1 = MyThread(start,start + perround,path)\n",
    "start += perround\n",
    "thr2 = MyThread(start,start + perround,path)\n",
    "start += perround\n",
    "thr3 = MyThread(start,start + perround,path)\n",
    "start += perround\n",
    "thr4 = MyThread(start,start + perround,path)\n",
    "start += perround\n",
    "thr5 = MyThread(start,start + perround,path)\n",
    "start += perround\n",
    "thr6 = MyThread(start,start + perround,path)\n",
    "start += perround\n",
    "thr7 = MyThread(start,start + perround,path)\n",
    "start += perround\n",
    "thr8 = MyThread(start,len(path),path)\n",
    "\n",
    "thr1.start()\n",
    "thr2.start()\n",
    "thr3.start()\n",
    "thr4.start()\n",
    "thr5.start()\n",
    "thr6.start()\n",
    "thr7.start()\n",
    "thr8.start()"
   ]
  },
  {
   "cell_type": "code",
   "execution_count": null,
   "id": "dimensional-router",
   "metadata": {},
   "outputs": [],
   "source": []
  }
 ],
 "metadata": {
  "kernelspec": {
   "display_name": "Python 3",
   "language": "python",
   "name": "python3"
  },
  "language_info": {
   "codemirror_mode": {
    "name": "ipython",
    "version": 3
   },
   "file_extension": ".py",
   "mimetype": "text/x-python",
   "name": "python",
   "nbconvert_exporter": "python",
   "pygments_lexer": "ipython3",
   "version": "3.8.7"
  }
 },
 "nbformat": 4,
 "nbformat_minor": 5
}
