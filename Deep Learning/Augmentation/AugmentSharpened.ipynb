{
 "cells": [
  {
   "cell_type": "code",
   "execution_count": 6,
   "id": "innovative-observer",
   "metadata": {},
   "outputs": [],
   "source": [
    "#6kernel filters sharpen\n",
    "from threading import Thread\n",
    "import glob\n",
    "import os\n",
    "import cv2\n",
    "import numpy as np\n",
    "import math\n",
    "\n",
    "\n",
    "class MyThread(Thread):\n",
    "    def __init__(self,base,limit,path):\n",
    "        Thread.__init__(self)\n",
    "        self.base = base\n",
    "        self.limit = limit\n",
    "        self.path = path\n",
    "    def run(self):\n",
    "        for i in range(self.base,self.limit):\n",
    "            image = cv2.imread(path[i])\n",
    "            kernel_sharpening = np.array([[-1,-1,-1],[-1,9,-1],[-1,-1,-1]])\n",
    "            sharpened = cv2.filter2D(image,-1,kernel_sharpening)\n",
    "            cv2.imwrite('G://Deep_Learning_Dataset//0562//Glaucoma//' + \"sharpened\" + os.path.basename(path[i]),sharpened)\n",
    "\n",
    "path = glob.glob(\"G://Deep_Learning_Dataset//025//Glaucoma//*\")\n",
    "start = 0 \n",
    "perround = math.floor(len(path)/8)\n",
    "thr1 = MyThread(start,start + perround,path)\n",
    "start += perround\n",
    "thr2 = MyThread(start,start + perround,path)\n",
    "start += perround\n",
    "thr3 = MyThread(start,start + perround,path)\n",
    "start += perround\n",
    "thr4 = MyThread(start,start + perround,path)\n",
    "start += perround\n",
    "thr5 = MyThread(start,start + perround,path)\n",
    "start += perround\n",
    "thr6 = MyThread(start,start + perround,path)\n",
    "start += perround\n",
    "thr7 = MyThread(start,start + perround,path)\n",
    "start += perround\n",
    "thr8 = MyThread(start,len(path),path)\n",
    "\n",
    "thr1.start()\n",
    "thr2.start()\n",
    "thr3.start()\n",
    "thr4.start()\n",
    "thr5.start()\n",
    "thr6.start()\n",
    "thr7.start()\n",
    "thr8.start()"
   ]
  },
  {
   "cell_type": "code",
   "execution_count": null,
   "id": "spectacular-startup",
   "metadata": {},
   "outputs": [],
   "source": []
  }
 ],
 "metadata": {
  "kernelspec": {
   "display_name": "Python 3",
   "language": "python",
   "name": "python3"
  },
  "language_info": {
   "codemirror_mode": {
    "name": "ipython",
    "version": 3
   },
   "file_extension": ".py",
   "mimetype": "text/x-python",
   "name": "python",
   "nbconvert_exporter": "python",
   "pygments_lexer": "ipython3",
   "version": "3.8.7"
  }
 },
 "nbformat": 4,
 "nbformat_minor": 5
}
