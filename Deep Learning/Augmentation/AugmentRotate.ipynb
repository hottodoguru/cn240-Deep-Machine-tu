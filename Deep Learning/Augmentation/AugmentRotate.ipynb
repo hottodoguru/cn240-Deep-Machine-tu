{
 "cells": [
  {
   "cell_type": "code",
   "execution_count": 2,
   "id": "dying-thomas",
   "metadata": {},
   "outputs": [],
   "source": [
    "#3rotation image 10-20 dregree\n",
    "from threading import Thread\n",
    "import glob\n",
    "import os\n",
    "from PIL import Image\n",
    "import cv2\n",
    "import random\n",
    "import math\n",
    "\n",
    "class MyThread(Thread):\n",
    "    def __init__(self,base,limit,path):\n",
    "        Thread.__init__(self)\n",
    "        self.base = base\n",
    "        self.limit = limit\n",
    "        self.path = path\n",
    "    def run(self):\n",
    "        for i in range(self.base,self.limit):\n",
    "            image = Image.open(path[i])\n",
    "            randforro = [10 + random.random()*10+10-(random.random())*10]\n",
    "            angle = random.choice(randforro)\n",
    "            image = image.rotate(angle)\n",
    "            image.save(\"G://Deep_Learning_Dataset//023//Normal//\" + \"rotated\" + os.path.basename(path[i]))\n",
    "\n",
    "\n",
    "path = glob.glob(\"G://Deep_Learning_Dataset//02//Normal//*\")\n",
    "start = 0 \n",
    "perround = math.floor(len(path)/8)\n",
    "thr1 = MyThread(start,start + perround,path)\n",
    "start += perround\n",
    "thr2 = MyThread(start,start + perround,path)\n",
    "start += perround\n",
    "thr3 = MyThread(start,start + perround,path)\n",
    "start += perround\n",
    "thr4 = MyThread(start,start + perround,path)\n",
    "start += perround\n",
    "thr5 = MyThread(start,start + perround,path)\n",
    "start += perround\n",
    "thr6 = MyThread(start,start + perround,path)\n",
    "start += perround\n",
    "thr7 = MyThread(start,start + perround,path)\n",
    "start += perround\n",
    "thr8 = MyThread(start,len(path),path)\n",
    "\n",
    "thr1.start()\n",
    "thr2.start()\n",
    "thr3.start()\n",
    "thr4.start()\n",
    "thr5.start()\n",
    "thr6.start()\n",
    "thr7.start()\n",
    "thr8.start()"
   ]
  },
  {
   "cell_type": "code",
   "execution_count": null,
   "id": "british-buffer",
   "metadata": {},
   "outputs": [],
   "source": []
  }
 ],
 "metadata": {
  "kernelspec": {
   "display_name": "Python 3",
   "language": "python",
   "name": "python3"
  },
  "language_info": {
   "codemirror_mode": {
    "name": "ipython",
    "version": 3
   },
   "file_extension": ".py",
   "mimetype": "text/x-python",
   "name": "python",
   "nbconvert_exporter": "python",
   "pygments_lexer": "ipython3",
   "version": "3.8.7"
  }
 },
 "nbformat": 4,
 "nbformat_minor": 5
}
