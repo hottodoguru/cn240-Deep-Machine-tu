{
 "cells": [
  {
   "cell_type": "markdown",
   "id": "quality-situation",
   "metadata": {},
   "source": [
    "# ResNet152"
   ]
  },
  {
   "cell_type": "code",
   "execution_count": 6,
   "id": "romantic-software",
   "metadata": {},
   "outputs": [],
   "source": [
    "import tensorflow as tf\n",
    "from keras.applications.densenet import DenseNet121\n",
    "from keras.layers import Dense, Dropout, Flatten, Conv2D, MaxPool2D,GlobalAveragePooling2D\n",
    "from keras.models import Sequential,Model,load_model\n",
    "from tensorflow.python.client import device_lib\n",
    "import numpy as np\n",
    "from keras.models import Model\n",
    "from keras.layers import Dense\n",
    "from keras.applications import ResNet152\n",
    "\n",
    "\n"
   ]
  },
  {
   "cell_type": "code",
   "execution_count": 46,
   "id": "running-carnival",
   "metadata": {},
   "outputs": [
    {
     "name": "stdout",
     "output_type": "stream",
     "text": [
      "Found 8303 images belonging to 3 classes.\n",
      "Found 2074 images belonging to 3 classes.\n",
      "Found 1717 images belonging to 3 classes.\n"
     ]
    }
   ],
   "source": [
    "from keras_preprocessing.image import ImageDataGenerator\n",
    "train_gendata = []\n",
    "valid_gendata = []\n",
    "test_gendata = []\n",
    "train_datagen2 = ImageDataGenerator(\n",
    "    rescale=1. / 255,\n",
    "    zoom_range=0.2,\n",
    "    validation_split = 0.2)\n",
    "model_path = \"E://CN240//model//model5-{epoch:02d}-{val_accuracy:.4f}.h5\"\n",
    "\n",
    "\n",
    "train_gen = train_datagen2.flow_from_directory(\n",
    "directory='C://Users//Admin//Desktop//Newtrain',\n",
    "target_size=(224, 224),\n",
    "shuffle = True,\n",
    "color_mode=\"rgb\",\n",
    "batch_size=4,\n",
    "class_mode=\"categorical\",\n",
    "subset = 'training')\n",
    "train_gendata.append(train_gen)\n",
    "    \n",
    "valid_gen = train_datagen2.flow_from_directory(\n",
    "directory='C://Users//Admin//Desktop//Newtrain',\n",
    "target_size=(224, 224),\n",
    "color_mode=\"rgb\",\n",
    "batch_size=4,\n",
    "class_mode=\"categorical\",\n",
    "subset='validation')\n",
    "valid_gendata.append(valid_gen)\n",
    "    \n",
    "test_gen = train_datagen2.flow_from_directory(\n",
    "directory='C://Users//Admin//Desktop//testdata',\n",
    "target_size=(224, 224),\n",
    "color_mode=\"rgb\",\n",
    "batch_size=1,\n",
    "class_mode=None)\n",
    "test_gendata.append(test_gen)\n",
    "    "
   ]
  },
  {
   "cell_type": "code",
   "execution_count": null,
   "id": "interpreted-juice",
   "metadata": {},
   "outputs": [],
   "source": []
  },
  {
   "cell_type": "code",
   "execution_count": 3,
   "id": "twenty-contributor",
   "metadata": {},
   "outputs": [],
   "source": [
    "from keras.callbacks import EarlyStopping, ModelCheckpoint, ReduceLROnPlateau\n",
    "def get_callbacks(name_weights, patience_lr):\n",
    "    mcp_save = ModelCheckpoint(name_weights, save_best_only=True, monitor='val_loss', mode='min')\n",
    "    reduce_lr_loss = ReduceLROnPlateau(monitor='loss', factor=0.1, patience=patience_lr, verbose=1, epsilon=1e-4, mode='min')\n",
    "    return [mcp_save, reduce_lr_loss]"
   ]
  },
  {
   "cell_type": "code",
   "execution_count": 4,
   "id": "killing-greeting",
   "metadata": {},
   "outputs": [],
   "source": [
    "from sklearn.metrics import roc_curve, auc, roc_auc_score\n",
    "import matplotlib.pyplot as plt"
   ]
  },
  {
   "cell_type": "code",
   "execution_count": 7,
   "id": "chicken-tonight",
   "metadata": {},
   "outputs": [
    {
     "name": "stdout",
     "output_type": "stream",
     "text": [
      "Num GPUs Available:  1\n"
     ]
    }
   ],
   "source": [
    "print(\"Num GPUs Available: \", len(tf.config.list_physical_devices('GPU')))\n"
   ]
  },
  {
   "cell_type": "code",
   "execution_count": 8,
   "id": "competent-carrier",
   "metadata": {},
   "outputs": [],
   "source": [
    "model = ResNet152(weights='imagenet',\n",
    "                    include_top=False,\n",
    "                    input_shape=(224, 224, 3))"
   ]
  },
  {
   "cell_type": "code",
   "execution_count": 11,
   "id": "accompanied-authentication",
   "metadata": {},
   "outputs": [],
   "source": [
    "from keras import models\n",
    "from keras import layers\n",
    "from keras import optimizers\n",
    "from keras.models import Model,load_model,Sequential\n",
    "from keras.layers import Dense, Dropout, Flatten, Conv2D, MaxPooling2D,GlobalAveragePooling2D,BatchNormalization,Activation\n",
    "\n",
    "\n",
    "x = model.output\n",
    "x = GlobalAveragePooling2D()(x)\n",
    "x = Dense(1024, activation='relu')(x)\n",
    "x = Dropout(0.55)(x)\n",
    "x = Dense(512, activation='relu')(x)\n",
    "x = Dropout(0.55)(x)\n",
    "predictions = Dense(3, activation= 'softmax')(x)\n",
    "model_2 = Model(inputs = model.input, outputs = predictions)\n",
    "model_2.compile(optimizer= 'adam', loss='categorical_crossentropy', metrics=['accuracy'])"
   ]
  },
  {
   "cell_type": "code",
   "execution_count": null,
   "id": "animated-preserve",
   "metadata": {},
   "outputs": [],
   "source": [
    "model_2.summary()\n"
   ]
  },
  {
   "cell_type": "code",
   "execution_count": 52,
   "id": "accredited-impact",
   "metadata": {},
   "outputs": [
    {
     "name": "stdout",
     "output_type": "stream",
     "text": [
      "Epoch 1/30\n",
      "2075/2075 [==============================] - 859s 401ms/step - loss: 1.0025 - accuracy: 0.5778 - val_loss: 2.0621 - val_accuracy: 0.6008\n",
      "\n",
      "Epoch 00001: saving model to E://CN240//model_from_fold\\model5-01-0.6008.h5\n",
      "Epoch 2/30\n",
      "2075/2075 [==============================] - 780s 376ms/step - loss: 0.8948 - accuracy: 0.6010 - val_loss: 3.3536 - val_accuracy: 0.6008\n",
      "\n",
      "Epoch 00002: saving model to E://CN240//model_from_fold\\model5-02-0.6008.h5\n",
      "Epoch 3/30\n",
      "2075/2075 [==============================] - 754s 363ms/step - loss: 0.8868 - accuracy: 0.6005 - val_loss: 1.3273 - val_accuracy: 0.6008\n",
      "\n",
      "Epoch 00003: saving model to E://CN240//model_from_fold\\model5-03-0.6008.h5\n",
      "Epoch 4/30\n",
      "2075/2075 [==============================] - 746s 359ms/step - loss: 0.8442 - accuracy: 0.5953 - val_loss: 1.3148 - val_accuracy: 0.3269\n",
      "\n",
      "Epoch 00004: saving model to E://CN240//model_from_fold\\model5-04-0.3269.h5\n",
      "Epoch 5/30\n",
      "2075/2075 [==============================] - 746s 359ms/step - loss: 0.8163 - accuracy: 0.6024 - val_loss: 1.0682 - val_accuracy: 0.5294\n",
      "\n",
      "Epoch 00005: saving model to E://CN240//model_from_fold\\model5-05-0.5294.h5\n",
      "Epoch 6/30\n",
      "2075/2075 [==============================] - 747s 360ms/step - loss: 0.7944 - accuracy: 0.6119 - val_loss: 1.8977 - val_accuracy: 0.2739\n",
      "\n",
      "Epoch 00006: saving model to E://CN240//model_from_fold\\model5-06-0.2739.h5\n",
      "Epoch 7/30\n",
      "2075/2075 [==============================] - 745s 359ms/step - loss: 0.7769 - accuracy: 0.6290 - val_loss: 1.1762 - val_accuracy: 0.5579\n",
      "\n",
      "Epoch 00007: saving model to E://CN240//model_from_fold\\model5-07-0.5579.h5\n",
      "Epoch 8/30\n",
      "2075/2075 [==============================] - 747s 360ms/step - loss: 0.7846 - accuracy: 0.6227 - val_loss: 1.0921 - val_accuracy: 0.6099\n",
      "\n",
      "Epoch 00008: saving model to E://CN240//model_from_fold\\model5-08-0.6099.h5\n",
      "Epoch 9/30\n",
      "2075/2075 [==============================] - 745s 359ms/step - loss: 0.7472 - accuracy: 0.6235 - val_loss: 1.0050 - val_accuracy: 0.5665\n",
      "\n",
      "Epoch 00009: saving model to E://CN240//model_from_fold\\model5-09-0.5665.h5\n",
      "Epoch 10/30\n",
      "2075/2075 [==============================] - 753s 363ms/step - loss: 0.7523 - accuracy: 0.6228 - val_loss: 0.8797 - val_accuracy: 0.6095\n",
      "\n",
      "Epoch 00010: saving model to E://CN240//model_from_fold\\model5-10-0.6095.h5\n",
      "Epoch 11/30\n",
      "2075/2075 [==============================] - 746s 360ms/step - loss: 0.6955 - accuracy: 0.6421 - val_loss: 1.5878 - val_accuracy: 0.6104\n",
      "\n",
      "Epoch 00011: saving model to E://CN240//model_from_fold\\model5-11-0.6104.h5\n",
      "Epoch 12/30\n",
      "2075/2075 [==============================] - 746s 359ms/step - loss: 0.6653 - accuracy: 0.6820 - val_loss: 0.8218 - val_accuracy: 0.6027\n",
      "\n",
      "Epoch 00012: saving model to E://CN240//model_from_fold\\model5-12-0.6027.h5\n",
      "Epoch 13/30\n",
      "2075/2075 [==============================] - 20379s 10s/step - loss: 0.6546 - accuracy: 0.6820 - val_loss: 0.8572 - val_accuracy: 0.5289\n",
      "\n",
      "Epoch 00013: saving model to E://CN240//model_from_fold\\model5-13-0.5289.h5\n",
      "Epoch 14/30\n",
      "2075/2075 [==============================] - 722s 348ms/step - loss: 0.6331 - accuracy: 0.6918 - val_loss: 1.0248 - val_accuracy: 0.5670\n",
      "\n",
      "Epoch 00014: saving model to E://CN240//model_from_fold\\model5-14-0.5670.h5\n",
      "Epoch 15/30\n",
      "2075/2075 [==============================] - 725s 349ms/step - loss: 0.6397 - accuracy: 0.6797 - val_loss: 0.8160 - val_accuracy: 0.5043\n",
      "\n",
      "Epoch 00015: saving model to E://CN240//model_from_fold\\model5-15-0.5043.h5\n",
      "Epoch 16/30\n",
      "2075/2075 [==============================] - 728s 350ms/step - loss: 0.6134 - accuracy: 0.6923 - val_loss: 1.3548 - val_accuracy: 0.6384\n",
      "\n",
      "Epoch 00016: saving model to E://CN240//model_from_fold\\model5-16-0.6384.h5\n",
      "Epoch 17/30\n",
      "2075/2075 [==============================] - 729s 351ms/step - loss: 0.5966 - accuracy: 0.7033 - val_loss: 1.0566 - val_accuracy: 0.4479\n",
      "\n",
      "Epoch 00017: saving model to E://CN240//model_from_fold\\model5-17-0.4479.h5\n",
      "Epoch 18/30\n",
      "2075/2075 [==============================] - 730s 352ms/step - loss: 0.5697 - accuracy: 0.7181 - val_loss: 3.4901 - val_accuracy: 0.6340\n",
      "\n",
      "Epoch 00018: saving model to E://CN240//model_from_fold\\model5-18-0.6340.h5\n",
      "Epoch 19/30\n",
      "2075/2075 [==============================] - 733s 353ms/step - loss: 0.5669 - accuracy: 0.7276 - val_loss: 1.5922 - val_accuracy: 0.5964\n",
      "\n",
      "Epoch 00019: saving model to E://CN240//model_from_fold\\model5-19-0.5964.h5\n",
      "Epoch 20/30\n",
      "2075/2075 [==============================] - 731s 352ms/step - loss: 0.5322 - accuracy: 0.7484 - val_loss: 0.7911 - val_accuracy: 0.5506\n",
      "\n",
      "Epoch 00020: saving model to E://CN240//model_from_fold\\model5-20-0.5506.h5\n",
      "Epoch 21/30\n",
      "2075/2075 [==============================] - 731s 352ms/step - loss: 0.5312 - accuracy: 0.7411 - val_loss: 0.9087 - val_accuracy: 0.5159\n",
      "\n",
      "Epoch 00021: saving model to E://CN240//model_from_fold\\model5-21-0.5159.h5\n",
      "Epoch 22/30\n",
      "2075/2075 [==============================] - 735s 354ms/step - loss: 0.5432 - accuracy: 0.7468 - val_loss: 0.8066 - val_accuracy: 0.5882\n",
      "\n",
      "Epoch 00022: saving model to E://CN240//model_from_fold\\model5-22-0.5882.h5\n",
      "Epoch 23/30\n",
      "2075/2075 [==============================] - 726s 350ms/step - loss: 0.4971 - accuracy: 0.7653 - val_loss: 1.6938 - val_accuracy: 0.5101\n",
      "\n",
      "Epoch 00023: saving model to E://CN240//model_from_fold\\model5-23-0.5101.h5\n",
      "Epoch 24/30\n",
      "2075/2075 [==============================] - 730s 352ms/step - loss: 0.4928 - accuracy: 0.7726 - val_loss: 1.0744 - val_accuracy: 0.5121\n",
      "\n",
      "Epoch 00024: saving model to E://CN240//model_from_fold\\model5-24-0.5121.h5\n",
      "Epoch 25/30\n",
      "2075/2075 [==============================] - 732s 353ms/step - loss: 0.4834 - accuracy: 0.7716 - val_loss: 4.0852 - val_accuracy: 0.6080\n",
      "\n",
      "Epoch 00025: saving model to E://CN240//model_from_fold\\model5-25-0.6080.h5\n",
      "Epoch 26/30\n",
      "2075/2075 [==============================] - 733s 353ms/step - loss: 0.4460 - accuracy: 0.7912 - val_loss: 1.2074 - val_accuracy: 0.4499\n",
      "\n",
      "Epoch 00026: saving model to E://CN240//model_from_fold\\model5-26-0.4499.h5\n",
      "Epoch 27/30\n",
      "2075/2075 [==============================] - 732s 353ms/step - loss: 0.4333 - accuracy: 0.8040 - val_loss: 2.3156 - val_accuracy: 0.4031\n",
      "\n",
      "Epoch 00027: saving model to E://CN240//model_from_fold\\model5-27-0.4031.h5\n",
      "Epoch 28/30\n",
      "2075/2075 [==============================] - 733s 353ms/step - loss: 0.4214 - accuracy: 0.8036 - val_loss: 4.8400 - val_accuracy: 0.4074\n",
      "\n",
      "Epoch 00028: saving model to E://CN240//model_from_fold\\model5-28-0.4074.h5\n",
      "Epoch 29/30\n",
      "2075/2075 [==============================] - 733s 353ms/step - loss: 0.3937 - accuracy: 0.8217 - val_loss: 3.6730 - val_accuracy: 0.4282\n",
      "\n",
      "Epoch 00029: saving model to E://CN240//model_from_fold\\model5-29-0.4282.h5\n",
      "Epoch 30/30\n",
      "2075/2075 [==============================] - 734s 353ms/step - loss: 0.3763 - accuracy: 0.8260 - val_loss: 4.7028 - val_accuracy: 0.3905\n",
      "\n",
      "Epoch 00030: saving model to E://CN240//model_from_fold\\model5-30-0.3905.h5\n"
     ]
    },
    {
     "name": "stderr",
     "output_type": "stream",
     "text": [
      "C:\\Users\\Admin\\AppData\\Roaming\\Python\\Python38\\site-packages\\tensorflow\\python\\keras\\engine\\training.py:1877: UserWarning: `Model.evaluate_generator` is deprecated and will be removed in a future version. Please use `Model.evaluate`, which supports generators.\n",
      "  warnings.warn('`Model.evaluate_generator` is deprecated and '\n"
     ]
    },
    {
     "name": "stdout",
     "output_type": "stream",
     "text": [
      "WARNING:tensorflow:Your input ran out of data; interrupting training. Make sure that your dataset or generator can generate at least `steps_per_epoch * epochs` batches (in this case, 2074 batches). You may need to use the repeat() function when building your dataset.\n",
      "Saved model to disk\n"
     ]
    }
   ],
   "source": [
    "batch_size = 4\n",
    "\n",
    "    \n",
    "#callbacks = get_callbacks(name_weights = name_weights, patience_lr=10)\n",
    "    \n",
    "generator = train_gendata[0]\n",
    "    \n",
    "valid = valid_gendata[0]\n",
    "test = test_gendata[0]\n",
    "filepath=\"E://CN240//model_from_fold//model5-{epoch:02d}-{val_accuracy:.4f}.h5\"\n",
    "checkpoint = ModelCheckpoint(filepath, monitor= 'val_accuracy', verbose=1, save_best_only=False, mode='max')\n",
    "callbacks_list = [checkpoint]\n",
    "history = model_2.fit(\n",
    "                generator,\n",
    "                steps_per_epoch=generator.n/batch_size,\n",
    "                epochs=30,\n",
    "                validation_data=valid,\n",
    "                validation_steps=valid.n/batch_size,\n",
    "                shuffle=True,\n",
    "                verbose=1,\n",
    "                callbacks = callbacks_list)\n",
    "    \n",
    "model_2.evaluate_generator(generator=valid,steps=valid.n)\n",
    "test_gendata[0].reset()\n",
    "    \n",
    "import json\n",
    "from keras.models import model_from_json, load_model\n",
    "with open('E://CN240//model//model5_architecture.json', 'w') as f:\n",
    "    f.write(model_2.to_json())\n",
    "print(\"Saved model to disk\")"
   ]
  },
  {
   "cell_type": "code",
   "execution_count": 56,
   "id": "scientific-active",
   "metadata": {},
   "outputs": [
    {
     "name": "stdout",
     "output_type": "stream",
     "text": [
      "dict_keys(['loss', 'accuracy', 'val_loss', 'val_accuracy'])\n"
     ]
    },
    {
     "data": {
      "image/png": "[encoded data removed]",
      "text/plain": [
       "<Figure size 432x288 with 1 Axes>"
      ]
     },
     "metadata": {
      "needs_background": "light"
     },
     "output_type": "display_data"
    },
    {
     "data": {
      "image/png": "[encoded data removed]",
      "text/plain": [
       "<Figure size 432x288 with 1 Axes>"
      ]
     },
     "metadata": {
      "needs_background": "light"
     },
     "output_type": "display_data"
    }
   ],
   "source": [
    "# list all data in history\n",
    "print(history.history.keys())\n",
    "# summarize history for accuracy\n",
    "plt.plot(history.history['accuracy'])\n",
    "plt.plot(history.history['val_accuracy'])\n",
    "plt.title('Model Accuracy')\n",
    "plt.ylabel('Accuracy')\n",
    "plt.xlabel('Epoch')\n",
    "plt.legend(['Train', 'Test'], loc='upper left')\n",
    "plt.show()\n",
    "# summarize history for loss\n",
    "plt.plot(history.history['loss'])\n",
    "plt.plot(history.history['val_loss'])\n",
    "plt.title('Model Loss')\n",
    "plt.ylabel('Loss')\n",
    "plt.xlabel('Epoch')\n",
    "plt.legend(['Train', 'Test'], loc='upper left')\n",
    "plt.show()"
   ]
  },
  {
   "cell_type": "code",
   "execution_count": null,
   "id": "phantom-ireland",
   "metadata": {},
   "outputs": [],
   "source": [
    "import tensorflow as tf\n",
    "from keras.models import load_model\n",
    "#model = load_model('G://Deep Model//Densenet//model5-09-0.7936.hdf5')\n",
    "model = tf.keras.models.load_model('E://CN240//model_from_fold//finalModel.h5')\n",
    "\n",
    "# summarize model.\n",
    "model.summary()"
   ]
  },
  {
   "cell_type": "code",
   "execution_count": 28,
   "id": "lesbian-chile",
   "metadata": {},
   "outputs": [],
   "source": [
    "model_2.compile(optimizer= 'adam', loss='categorical_crossentropy', metrics=['accuracy'])"
   ]
  },
  {
   "cell_type": "code",
   "execution_count": 57,
   "id": "juvenile-proposal",
   "metadata": {},
   "outputs": [
    {
     "name": "stderr",
     "output_type": "stream",
     "text": [
      "C:\\Users\\Admin\\AppData\\Roaming\\Python\\Python38\\site-packages\\tensorflow\\python\\keras\\engine\\training.py:1905: UserWarning: `Model.predict_generator` is deprecated and will be removed in a future version. Please use `Model.predict`, which supports generators.\n",
      "  warnings.warn('`Model.predict_generator` is deprecated and '\n"
     ]
    },
    {
     "name": "stdout",
     "output_type": "stream",
     "text": [
      "1717/1717 [==============================] - 114s 65ms/step\n"
     ]
    }
   ],
   "source": [
    "test_gendata[0].reset()\n",
    "pred=model_2.predict_generator(test_gendata[0],\n",
    "steps=test_gendata[0].n,\n",
    "verbose=1)"
   ]
  },
  {
   "cell_type": "code",
   "execution_count": 59,
   "id": "commercial-workshop",
   "metadata": {},
   "outputs": [
    {
     "data": {
      "text/plain": [
       "{'Glaucoma': 0, 'Normal': 1, 'Others': 2}"
      ]
     },
     "execution_count": 59,
     "metadata": {},
     "output_type": "execute_result"
    }
   ],
   "source": [
    "ground_truth = test.classes\n",
    "label2index = test.class_indices\n",
    "label2index"
   ]
  },
  {
   "cell_type": "code",
   "execution_count": 60,
   "id": "northern-dialogue",
   "metadata": {},
   "outputs": [
    {
     "name": "stdout",
     "output_type": "stream",
     "text": [
      "No of errors = 1/1717\n"
     ]
    },
    {
     "name": "stderr",
     "output_type": "stream",
     "text": [
      "<ipython-input-60-8fecfcbdb324>:4: DeprecationWarning: elementwise comparison failed; this will raise an error in the future.\n",
      "  errors = np.where(predictions != ground_truth)[0]\n"
     ]
    }
   ],
   "source": [
    "idx2label = dict((v,k) for k,v in label2index.items())\n",
    "predictions = model_2.predict_generator(test_gendata[0],steps=1, verbose=0)\n",
    "prob = model_2.predict(test_gendata[0])\n",
    "errors = np.where(predictions != ground_truth)[0]\n",
    "print(\"No of errors = {}/{}\".format(len(errors),test_gendata[0].n))"
   ]
  },
  {
   "cell_type": "code",
   "execution_count": 61,
   "id": "average-group",
   "metadata": {},
   "outputs": [],
   "source": [
    "predicted_class_indices=np.argmax(pred,axis=1)"
   ]
  },
  {
   "cell_type": "code",
   "execution_count": 62,
   "id": "ethical-ticket",
   "metadata": {},
   "outputs": [
    {
     "data": {
      "text/plain": [
       "array([1, 0, 0, ..., 0, 1, 1], dtype=int64)"
      ]
     },
     "execution_count": 62,
     "metadata": {},
     "output_type": "execute_result"
    }
   ],
   "source": [
    "predicted_class_indices"
   ]
  },
  {
   "cell_type": "code",
   "execution_count": 63,
   "id": "protective-intermediate",
   "metadata": {},
   "outputs": [],
   "source": [
    "labels = (generator.class_indices)\n",
    "labels = dict((v,k) for k,v in labels.items())\n",
    "predictions = [labels[k] for k in predicted_class_indices]"
   ]
  },
  {
   "cell_type": "code",
   "execution_count": 64,
   "id": "excited-october",
   "metadata": {},
   "outputs": [],
   "source": [
    "y_test = generator.classes\n"
   ]
  },
  {
   "cell_type": "code",
   "execution_count": 65,
   "id": "otherwise-insider",
   "metadata": {},
   "outputs": [
    {
     "data": {
      "text/plain": [
       "array([0, 0, 0, ..., 2, 2, 2])"
      ]
     },
     "execution_count": 65,
     "metadata": {},
     "output_type": "execute_result"
    }
   ],
   "source": [
    "y_test"
   ]
  },
  {
   "cell_type": "code",
   "execution_count": 68,
   "id": "optical-adams",
   "metadata": {},
   "outputs": [
    {
     "data": {
      "text/plain": [
       "[0.35839739441871643, 0.8380897045135498]"
      ]
     },
     "execution_count": 68,
     "metadata": {},
     "output_type": "execute_result"
    }
   ],
   "source": [
    "model_2.evaluate_generator(generator=generator,steps=test_gendata[0].n)\n"
   ]
  },
  {
   "cell_type": "code",
   "execution_count": 58,
   "id": "proof-settle",
   "metadata": {},
   "outputs": [],
   "source": [
    "model_2.save('E://CN240//model_from_fold//finalModelResNet.h5')"
   ]
  },
  {
   "cell_type": "markdown",
   "id": "assumed-member",
   "metadata": {},
   "source": [
    "# Plotting Confusion Matrix"
   ]
  },
  {
   "cell_type": "code",
   "execution_count": 74,
   "id": "little-basement",
   "metadata": {},
   "outputs": [],
   "source": [
    "def plot_confusion_matrix(cm, classes, \n",
    "                          normalize=False,\n",
    "                         title = 'Confusion Matrix',\n",
    "                         cmap=plt.cm.Blues):\n",
    "  \n",
    "  plt.imshow(cm, interpolation = 'nearest', cmap=cmap)\n",
    "  plt.title(title)\n",
    "  plt.colorbar()\n",
    "  tick_marks = np.arange(len(classes))\n",
    "  plt.xticks(tick_marks, classes, rotation = 45)\n",
    "  plt.yticks(tick_marks, classes)\n",
    "  \n",
    "  if normalize:\n",
    "    cm = cm.astype('float') / cm.sum(axis=1) [:, np.newaxis]\n",
    "    print(\"Normalized Confusion Matrix\")\n",
    "  else:\n",
    "    print(\"Confusion Matrix without normalization\")\n",
    "  \n",
    "  print(cm)\n",
    "  \n",
    "  thresh = cm.max() / 2.\n",
    "  \n",
    "  for i, j in itertools.product(range(cm.shape[0]), range(cm.shape[1])):\n",
    "    plt.text(j,i, cm[i,j],\n",
    "            horizontalalignment =\"center\",\n",
    "            color = \"white\" if cm[i,j] > thresh else \"black\")\n",
    "    plt.tight_layout()\n",
    "    plt.ylabel('True label')\n",
    "    plt.xlabel('Predicted label')"
   ]
  },
  {
   "cell_type": "code",
   "execution_count": 70,
   "id": "honest-course",
   "metadata": {},
   "outputs": [
    {
     "data": {
      "text/plain": [
       "numpy.ndarray"
      ]
     },
     "execution_count": 70,
     "metadata": {},
     "output_type": "execute_result"
    }
   ],
   "source": [
    "x_labels = test.classes\n",
    "type(x_labels)"
   ]
  },
  {
   "cell_type": "code",
   "execution_count": 71,
   "id": "occupied-affairs",
   "metadata": {},
   "outputs": [
    {
     "data": {
      "text/plain": [
       "numpy.ndarray"
      ]
     },
     "execution_count": 71,
     "metadata": {},
     "output_type": "execute_result"
    }
   ],
   "source": [
    "y_labels = predicted_class_indices\n",
    "type(y_labels)\n"
   ]
  },
  {
   "cell_type": "code",
   "execution_count": 42,
   "id": "respective-seller",
   "metadata": {},
   "outputs": [
    {
     "name": "stdout",
     "output_type": "stream",
     "text": [
      "              precision    recall  f1-score   support\n",
      "\n",
      "           0       0.25      0.40      0.31       433\n",
      "           1       0.29      0.28      0.29       517\n",
      "           2       0.46      0.31      0.37       767\n",
      "\n",
      "    accuracy                           0.32      1717\n",
      "   macro avg       0.33      0.33      0.32      1717\n",
      "weighted avg       0.36      0.32      0.33      1717\n",
      "\n"
     ]
    }
   ],
   "source": [
    " from sklearn.metrics import classification_report\n",
    "print(classification_report(y_labels, x_labels))"
   ]
  },
  {
   "cell_type": "code",
   "execution_count": 72,
   "id": "civil-timer",
   "metadata": {},
   "outputs": [],
   "source": [
    "from sklearn.metrics import confusion_matrix\n",
    "from matplotlib import pyplot as plt\n",
    "cm = confusion_matrix(x_labels, y_labels)"
   ]
  },
  {
   "cell_type": "code",
   "execution_count": 75,
   "id": "antique-spending",
   "metadata": {},
   "outputs": [
    {
     "name": "stdout",
     "output_type": "stream",
     "text": [
      "Confusion Matrix without normalization\n",
      "[[285 269 150]\n",
      " [197 189 118]\n",
      " [213 180 116]]\n"
     ]
    },
    {
     "data": {
      "image/png": "[encoded data removed]",
      "text/plain": [
       "<Figure size 432x288 with 2 Axes>"
      ]
     },
     "metadata": {
      "needs_background": "light"
     },
     "output_type": "display_data"
    }
   ],
   "source": [
    "import itertools\n",
    "cm_plot_labels = ['Glaucoma','Normal','Others']\n",
    "plot_confusion_matrix(cm, cm_plot_labels, title ='Confusion Matrix')"
   ]
  },
  {
   "cell_type": "code",
   "execution_count": null,
   "id": "accompanied-globe",
   "metadata": {},
   "outputs": [],
   "source": []
  }
 ],
 "metadata": {
  "kernelspec": {
   "display_name": "Python 3",
   "language": "python",
   "name": "python3"
  },
  "language_info": {
   "codemirror_mode": {
    "name": "ipython",
    "version": 3
   },
   "file_extension": ".py",
   "mimetype": "text/x-python",
   "name": "python",
   "nbconvert_exporter": "python",
   "pygments_lexer": "ipython3",
   "version": "3.8.7"
  }
 },
 "nbformat": 4,
 "nbformat_minor": 5
}
